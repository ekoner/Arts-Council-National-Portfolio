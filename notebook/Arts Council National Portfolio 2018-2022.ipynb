{
 "cells": [
  {
   "cell_type": "markdown",
   "metadata": {},
   "source": [
    "# Exploring the Arts Council National Portfolio 2018-2022\n",
    "\n",
    "On 27 June 2017, the [Arts Council for England](http://www.artscouncil.org.uk) announced the [National Portfolio Organisations](http://www.artscouncil.org.uk/NPO) for the next four years, a [factsheet](http://www.artscouncil.org.uk/sites/default/files/download-file/Investment__factsheet.pdf) and a [dataset](http://www.artscouncil.org.uk/sites/default/files/download-file/NPO_successful_20182022_July_6.xlsx)! \n",
    "\n",
    "This prompted a few questions:\n",
    "\n",
    "* Is the dataset open data?\n",
    "* Can the dataset be improved in any way?"
   ]
  },
  {
   "cell_type": "markdown",
   "metadata": {},
   "source": [
    "**Author**: Edafe Onerhime\n",
    "\n",
    "**Created**: 2017-07-18\n",
    "\n",
    "**Last Updated**: 2017-08-04\n",
    "\n",
    "**Description**:  Explores the Arts Council National Portfolio 2018-2022 dataset\n",
    "\n",
    "**Contents**: Notebook folder with this Jupyter Notebook, data folder, research folder"
   ]
  },
  {
   "cell_type": "markdown",
   "metadata": {},
   "source": [
    "## Q1. Is the dataset open data?\n",
    "\n",
    "According to the Arts Council's [Terms and conditions](http://www.artscouncil.org.uk/terms-and-conditions#section-3) it is open data!\n",
    "\n",
    "> The copyright in the contents of this website is owned by Arts Council England or its licensors.  The data and information available through www.artscouncil.org.uk are owned by the Arts Council England and unless otherwise noted this is operated under the Open Government Licence.\n",
    "\n",
    "> Please contact copyright@artscouncil.org.uk if you wish to use any of the materials on this website"
   ]
  },
  {
   "cell_type": "markdown",
   "metadata": {},
   "source": [
    "## Q2. Can the dataset be improved?\n",
    "\n",
    "Yes, we can make it simpler for analysis,let's follow some steps from Hadley Wickham's [Tidy Data](http://vita.had.co.nz/papers/tidy-data.pdf)\n"
   ]
  },
  {
   "cell_type": "code",
   "execution_count": 1,
   "metadata": {
    "collapsed": true
   },
   "outputs": [],
   "source": [
    "import os.path\n",
    "import pandas as pd\n",
    "import numpy as np\n",
    "from urllib.request import urlretrieve"
   ]
  },
  {
   "cell_type": "code",
   "execution_count": 2,
   "metadata": {
    "collapsed": true
   },
   "outputs": [],
   "source": [
    "fileDetails = {'NPO_successful_20182022_July_6.xlsx': 'http://www.artscouncil.org.uk/sites/default/files/download-file/NPO_successful_20182022_July_6.xlsx'}\n",
    "\n",
    "dataInputFolder = os.path.join(os.pardir,'data','input')\n",
    "dataOutputFolder = os.path.join(os.pardir,'data','output')\n",
    "\n",
    "outputCSVAll = os.path.join(dataOutputFolder,'NPO_successful_20182022_July_6_all.csv')\n",
    "outputCSVPortfolio = os.path.join(dataOutputFolder,'NPO_successful_20182022_July_6_portfolio.csv')\n",
    "outputCSVFunding = os.path.join(dataOutputFolder,'NPO_successful_20182022_July_6_funding.csv')\n",
    "outputXLS = os.path.join(dataOutputFolder,'NPO_successful_20182022_July_6_all.xlsx')"
   ]
  },
  {
   "cell_type": "code",
   "execution_count": 3,
   "metadata": {
    "collapsed": true
   },
   "outputs": [],
   "source": [
    "def portFolioFunding(dfIn, ColumnName, Year, Period, Type):\n",
    "    \"\"\" Returns a dataframe with Portfolio Funding amount, Year e.g. 2015 and Period e.g. 2015-2018\"\"\"\n",
    "    dfOut = dfIn[[ColumnName]].copy()\n",
    "    dfOut['Year'] = Year\n",
    "    dfOut['Period'] = Period\n",
    "    dfOut['Type'] = Type\n",
    "    dfOut.rename(columns={ColumnName:'Amount'}, inplace=True)\n",
    "    return dfOut"
   ]
  },
  {
   "cell_type": "code",
   "execution_count": 4,
   "metadata": {},
   "outputs": [
    {
     "name": "stdout",
     "output_type": "stream",
     "text": [
      "Checking for: NPO_successful_20182022_July_6.xlsx\n"
     ]
    }
   ],
   "source": [
    "# Get the file\n",
    "for fname in fileDetails:\n",
    "    print('Checking for:',fname)\n",
    "    fname = os.path.join(dataInputFolder,fname)   \n",
    "    if not os.path.isfile(fname):\n",
    "        print('Downloading:',fname)\n",
    "        urlretrieve(fileDetails[fname], fname)"
   ]
  },
  {
   "cell_type": "code",
   "execution_count": 5,
   "metadata": {
    "collapsed": true
   },
   "outputs": [],
   "source": [
    "# Load into Pandas\n",
    "fname = os.path.join(dataInputFolder,'NPO_successful_20182022_July_6.xlsx')   \n",
    "df = pd.read_excel(open(fname,'rb'), sheetname=0)"
   ]
  },
  {
   "cell_type": "code",
   "execution_count": 6,
   "metadata": {
    "collapsed": true,
    "scrolled": true
   },
   "outputs": [],
   "source": [
    "# Tidy up - no major changes\n",
    "\n",
    "# Strip out carriage returns in column names\n",
    "df = df.rename(columns={col: col.replace('\\n','').replace('  ',' ') for col in df.columns})\n",
    "\n",
    "# Strip out text value 'NEW' so column is all numbers\n",
    "df.loc[df['% Cash change between 17/18 and 18/19'].str.contains('NEW', na=False), '% Cash change between 17/18 and 18/19'] = np.NaN\n",
    "\n",
    "# Make these columns categories\n",
    "df['Funding Band'] = df['Funding Band'].apply(str).astype('category')\n",
    "df['Area'] = df['Area'].astype('category')\n",
    "df['ACE Region'] = df['ACE Region'].astype('category')\n",
    "df['ONS Region'] = df['ONS Region'].astype('category')\n",
    "df['Discipline'] = df['Discipline'].astype('category')\n",
    "df['Funding Source (GIA or LOT)'] = df['Funding Source (GIA or LOT)'].astype('category')\n",
    "\n",
    "# Make these columns true or false (Bool)\n",
    "df.loc[df['Portfolio funded in 2015-18?'].str.contains('Yes', na=False), 'Portfolio funded in 2015-18?'] = True\n",
    "df.loc[df['Portfolio funded in 2015-18?'].str.contains('No', na=False), 'Portfolio funded in 2015-18?'] = False\n",
    "df['Portfolio funded in 2015-18?'] = df['Portfolio funded in 2015-18?'].astype('bool')\n",
    "\n",
    "# Don't care about the pennies - make the columns ints\n",
    "df['Portfolio funding 15/16 - £'] = df['Portfolio funding 15/16 - £'].astype('int')\n",
    "df['Portfolio funding 16/17 - £'] = df['Portfolio funding 16/17 - £'].astype('int')\n",
    "df['Portfolio funding 17/18 - £'] = df['Portfolio funding 17/18 - £'].astype('int')\n",
    "df['TOTAL Portfolio funding 15/18 - £'] = df['TOTAL Portfolio funding 15/18 - £'].astype('int')"
   ]
  },
  {
   "cell_type": "code",
   "execution_count": 7,
   "metadata": {
    "collapsed": true
   },
   "outputs": [],
   "source": [
    "# Enrichment - New columns mostly\n",
    "\n",
    "# Enrich: Funding Source (GIA or LOT) using descriptions here: https://www.artsprofessional.co.uk/news/npo-scheme-merge-ace-grant-aid-and-lottery-funding\n",
    "df['Funding Source Description'] = df['Funding Source (GIA or LOT)'].astype(str)\n",
    "df.loc[df['Funding Source Description'].str.contains('GIA', na=False), 'Funding Source Description'] = 'Grant in Aid'\n",
    "df.loc[df['Funding Source Description'].str.contains('LOT', na=False), 'Funding Source Description'] = 'National Lottery'\n",
    "\n",
    "# Enrich: Funding Bands using descriptions here: http://www.artscouncil.org.uk/sites/default/files/download-file/Briefing_current_NPOs_MPMs_FINAL.pptx\n",
    "df['Funding Band Description'] = df['Funding Band'].astype(str)\n",
    "df.loc[~df['Funding Band Description'].str.contains('SSO'), 'Funding Band Description'] = 'Band ' + df['Funding Band Description'].astype(str)\n",
    "df.loc[df['Funding Band Description'].str.contains('SSO'), 'Funding Band Description'] = 'Sector Support Organisation'\n",
    "\n",
    "# Pull information out of notes: Bridge Organisation, Uplift, Reduction, Museum Development\n",
    "df['Bridge Organisation'] = False\n",
    "df['Technical Uplift'] = False\n",
    "df['Technical Reduction'] = False\n",
    "df['Museum Development'] = False\n",
    "df.loc[df['Notes'].str.lower().str.contains('bridge organisation', na=False), 'Bridge Organisation'] = True\n",
    "df.loc[df['Notes'].str.lower().str.contains('uplift', na=False), 'Technical Uplift'] = True\n",
    "df.loc[df['Notes'].str.lower().str.contains('reduction', na=False), 'Technical Reduction'] = True\n",
    "df.loc[df['Notes'].str.lower().str.contains('museum development', na=False), 'Museum Development'] = True\n"
   ]
  },
  {
   "cell_type": "code",
   "execution_count": 8,
   "metadata": {
    "collapsed": true
   },
   "outputs": [],
   "source": [
    "# Add Index (Looks like Applicant Name & Funding Band are unique)\n",
    "df.set_index(['Applicant Name', 'Funding Band'], inplace=True)"
   ]
  },
  {
   "cell_type": "code",
   "execution_count": 9,
   "metadata": {
    "collapsed": true,
    "scrolled": false
   },
   "outputs": [],
   "source": [
    "# Normalise by splitting funidng from portfolio (naming mine!)\n",
    "\n",
    "# Stack the funding\n",
    "dfFunding = portFolioFunding(df,'Portfolio funding 15/16 - £','2015','2015-2018','Fund')\n",
    "dfFunding = dfFunding.append(portFolioFunding(df,'Portfolio funding 16/17 - £','2016','2015-2018','Fund'))\n",
    "dfFunding = dfFunding.append(portFolioFunding(df,'Portfolio funding 17/18 - £','2017','2015-2018','Fund'))\n",
    "dfFunding = dfFunding.append(portFolioFunding(df,'Portfolio grant 18/19 - £','2018','2018-2022','Grant'))\n",
    "dfFunding = dfFunding.append(portFolioFunding(df,'Portfolio grant 19/20 - £','2019','2018-2022','Grant'))\n",
    "dfFunding = dfFunding.append(portFolioFunding(df,'Portfolio grant 20/21 - £','2020','2018-2022','Grant'))\n",
    "dfFunding = dfFunding.append(portFolioFunding(df,'Portfolio grant 21/22 - £','2021','2018-2022','Grant'))\n",
    "\n",
    "# Add Year to index\n",
    "dfFunding.set_index('Year', append=True, inplace=True)\n",
    "dfFunding['Period'] = dfFunding['Period'].astype('category')\n",
    "dfFunding['Type'] = dfFunding['Type'].astype('category')\n",
    "\n",
    "# Create seperate portfolio\n",
    "dfPortfolio = df[['Alternative Name', 'Web address', 'Local Authority', 'Area', 'ACE Region', 'ONS Region', 'Funding Source (GIA or LOT)', 'Funding Source Description', 'Funding Band Description', 'Discipline', 'Portfolio funded in 2015-18?', 'Bridge Organisation', 'Technical Uplift', 'Technical Reduction', 'Museum Development']].copy()"
   ]
  },
  {
   "cell_type": "code",
   "execution_count": 10,
   "metadata": {
    "collapsed": true
   },
   "outputs": [],
   "source": [
    "# Export files\n",
    "\n",
    "# separate csv\n",
    "df.to_csv(outputCSVAll)\n",
    "dfPortfolio.to_csv(outputCSVPortfolio)\n",
    "dfFunding.to_csv(outputCSVFunding)\n",
    "\n",
    "# some folks like Excel!\n",
    "writer = pd.ExcelWriter(outputXLS)\n",
    "df.to_excel(writer, 'All')\n",
    "dfPortfolio.to_excel(writer, 'Portfolio')\n",
    "dfFunding.to_excel(writer, 'Funding')\n",
    "writer.save()\n",
    "writer.close()"
   ]
  },
  {
   "cell_type": "code",
   "execution_count": null,
   "metadata": {},
   "outputs": [],
   "source": []
  }
 ],
 "metadata": {
  "kernelspec": {
   "display_name": "Python [default]",
   "language": "python",
   "name": "python3"
  },
  "language_info": {
   "codemirror_mode": {
    "name": "ipython",
    "version": 3
   },
   "file_extension": ".py",
   "mimetype": "text/x-python",
   "name": "python",
   "nbconvert_exporter": "python",
   "pygments_lexer": "ipython3",
   "version": "3.5.3"
  }
 },
 "nbformat": 4,
 "nbformat_minor": 2
}
